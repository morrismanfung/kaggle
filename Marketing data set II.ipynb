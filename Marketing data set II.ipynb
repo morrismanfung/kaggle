{
 "cells": [
  {
   "cell_type": "markdown",
   "id": "b1c6bb20",
   "metadata": {},
   "source": [
    "# Research Question 2: customers' characteristics and campaign engagement"
   ]
  },
  {
   "cell_type": "markdown",
   "id": "adda36fd",
   "metadata": {},
   "source": [
    "# Basic set up"
   ]
  },
  {
   "cell_type": "markdown",
   "id": "d2304461",
   "metadata": {},
   "source": [
    "Import the packages needed"
   ]
  },
  {
   "cell_type": "code",
   "execution_count": 1,
   "id": "a1005610",
   "metadata": {},
   "outputs": [],
   "source": [
    "import numpy as np\n",
    "import pandas as pd\n",
    "import matplotlib.pyplot as plt\n",
    "import seaborn as sns\n",
    "import statistics"
   ]
  },
  {
   "cell_type": "code",
   "execution_count": 2,
   "id": "30690106",
   "metadata": {},
   "outputs": [],
   "source": [
    "%store -r df"
   ]
  },
  {
   "cell_type": "code",
   "execution_count": 3,
   "id": "5b17bb9a",
   "metadata": {
    "scrolled": true
   },
   "outputs": [
    {
     "data": {
      "text/html": [
       "<div>\n",
       "<style scoped>\n",
       "    .dataframe tbody tr th:only-of-type {\n",
       "        vertical-align: middle;\n",
       "    }\n",
       "\n",
       "    .dataframe tbody tr th {\n",
       "        vertical-align: top;\n",
       "    }\n",
       "\n",
       "    .dataframe thead th {\n",
       "        text-align: right;\n",
       "    }\n",
       "</style>\n",
       "<table border=\"1\" class=\"dataframe\">\n",
       "  <thead>\n",
       "    <tr style=\"text-align: right;\">\n",
       "      <th></th>\n",
       "      <th>ID</th>\n",
       "      <th>Year_Birth</th>\n",
       "      <th>Education</th>\n",
       "      <th>Marital_Status</th>\n",
       "      <th>Income</th>\n",
       "      <th>Kidhome</th>\n",
       "      <th>Teenhome</th>\n",
       "      <th>Dt_Customer</th>\n",
       "      <th>Recency</th>\n",
       "      <th>MntWines</th>\n",
       "      <th>...</th>\n",
       "      <th>NumWebVisitsMonth</th>\n",
       "      <th>AcceptedCmp3</th>\n",
       "      <th>AcceptedCmp4</th>\n",
       "      <th>AcceptedCmp5</th>\n",
       "      <th>AcceptedCmp1</th>\n",
       "      <th>AcceptedCmp2</th>\n",
       "      <th>Response</th>\n",
       "      <th>Complain</th>\n",
       "      <th>Country</th>\n",
       "      <th>Martial_Status</th>\n",
       "    </tr>\n",
       "  </thead>\n",
       "  <tbody>\n",
       "    <tr>\n",
       "      <th>0</th>\n",
       "      <td>1826</td>\n",
       "      <td>1970</td>\n",
       "      <td>Graduation</td>\n",
       "      <td>Divorced</td>\n",
       "      <td>84835.0</td>\n",
       "      <td>0</td>\n",
       "      <td>0</td>\n",
       "      <td>6/16/14</td>\n",
       "      <td>0</td>\n",
       "      <td>189</td>\n",
       "      <td>...</td>\n",
       "      <td>1</td>\n",
       "      <td>0</td>\n",
       "      <td>0</td>\n",
       "      <td>0</td>\n",
       "      <td>0</td>\n",
       "      <td>0</td>\n",
       "      <td>1</td>\n",
       "      <td>0</td>\n",
       "      <td>SP</td>\n",
       "      <td>Divorced</td>\n",
       "    </tr>\n",
       "    <tr>\n",
       "      <th>1</th>\n",
       "      <td>1</td>\n",
       "      <td>1961</td>\n",
       "      <td>Graduation</td>\n",
       "      <td>Single</td>\n",
       "      <td>57091.0</td>\n",
       "      <td>0</td>\n",
       "      <td>0</td>\n",
       "      <td>6/15/14</td>\n",
       "      <td>0</td>\n",
       "      <td>464</td>\n",
       "      <td>...</td>\n",
       "      <td>5</td>\n",
       "      <td>0</td>\n",
       "      <td>0</td>\n",
       "      <td>0</td>\n",
       "      <td>0</td>\n",
       "      <td>1</td>\n",
       "      <td>1</td>\n",
       "      <td>0</td>\n",
       "      <td>CA</td>\n",
       "      <td>Single</td>\n",
       "    </tr>\n",
       "    <tr>\n",
       "      <th>2</th>\n",
       "      <td>10476</td>\n",
       "      <td>1958</td>\n",
       "      <td>Graduation</td>\n",
       "      <td>Married</td>\n",
       "      <td>67267.0</td>\n",
       "      <td>0</td>\n",
       "      <td>1</td>\n",
       "      <td>5/13/14</td>\n",
       "      <td>0</td>\n",
       "      <td>134</td>\n",
       "      <td>...</td>\n",
       "      <td>2</td>\n",
       "      <td>0</td>\n",
       "      <td>0</td>\n",
       "      <td>0</td>\n",
       "      <td>0</td>\n",
       "      <td>0</td>\n",
       "      <td>0</td>\n",
       "      <td>0</td>\n",
       "      <td>US</td>\n",
       "      <td>Married</td>\n",
       "    </tr>\n",
       "    <tr>\n",
       "      <th>3</th>\n",
       "      <td>1386</td>\n",
       "      <td>1967</td>\n",
       "      <td>Graduation</td>\n",
       "      <td>Together</td>\n",
       "      <td>32474.0</td>\n",
       "      <td>1</td>\n",
       "      <td>1</td>\n",
       "      <td>5/11/14</td>\n",
       "      <td>0</td>\n",
       "      <td>10</td>\n",
       "      <td>...</td>\n",
       "      <td>7</td>\n",
       "      <td>0</td>\n",
       "      <td>0</td>\n",
       "      <td>0</td>\n",
       "      <td>0</td>\n",
       "      <td>0</td>\n",
       "      <td>0</td>\n",
       "      <td>0</td>\n",
       "      <td>AUS</td>\n",
       "      <td>Together</td>\n",
       "    </tr>\n",
       "    <tr>\n",
       "      <th>4</th>\n",
       "      <td>5371</td>\n",
       "      <td>1989</td>\n",
       "      <td>Graduation</td>\n",
       "      <td>Single</td>\n",
       "      <td>21474.0</td>\n",
       "      <td>1</td>\n",
       "      <td>0</td>\n",
       "      <td>4/8/14</td>\n",
       "      <td>0</td>\n",
       "      <td>6</td>\n",
       "      <td>...</td>\n",
       "      <td>7</td>\n",
       "      <td>1</td>\n",
       "      <td>0</td>\n",
       "      <td>0</td>\n",
       "      <td>0</td>\n",
       "      <td>0</td>\n",
       "      <td>1</td>\n",
       "      <td>0</td>\n",
       "      <td>SP</td>\n",
       "      <td>Single</td>\n",
       "    </tr>\n",
       "  </tbody>\n",
       "</table>\n",
       "<p>5 rows × 29 columns</p>\n",
       "</div>"
      ],
      "text/plain": [
       "      ID  Year_Birth   Education Marital_Status   Income  Kidhome  Teenhome  \\\n",
       "0   1826        1970  Graduation       Divorced  84835.0        0         0   \n",
       "1      1        1961  Graduation         Single  57091.0        0         0   \n",
       "2  10476        1958  Graduation        Married  67267.0        0         1   \n",
       "3   1386        1967  Graduation       Together  32474.0        1         1   \n",
       "4   5371        1989  Graduation         Single  21474.0        1         0   \n",
       "\n",
       "  Dt_Customer  Recency  MntWines  ...  NumWebVisitsMonth  AcceptedCmp3  \\\n",
       "0     6/16/14        0       189  ...                  1             0   \n",
       "1     6/15/14        0       464  ...                  5             0   \n",
       "2     5/13/14        0       134  ...                  2             0   \n",
       "3     5/11/14        0        10  ...                  7             0   \n",
       "4      4/8/14        0         6  ...                  7             1   \n",
       "\n",
       "   AcceptedCmp4  AcceptedCmp5  AcceptedCmp1  AcceptedCmp2  Response  Complain  \\\n",
       "0             0             0             0             0         1         0   \n",
       "1             0             0             0             1         1         0   \n",
       "2             0             0             0             0         0         0   \n",
       "3             0             0             0             0         0         0   \n",
       "4             0             0             0             0         1         0   \n",
       "\n",
       "   Country  Martial_Status  \n",
       "0       SP        Divorced  \n",
       "1       CA          Single  \n",
       "2       US         Married  \n",
       "3      AUS        Together  \n",
       "4       SP          Single  \n",
       "\n",
       "[5 rows x 29 columns]"
      ]
     },
     "execution_count": 3,
     "metadata": {},
     "output_type": "execute_result"
    }
   ],
   "source": [
    "df.head()"
   ]
  },
  {
   "cell_type": "code",
   "execution_count": 4,
   "id": "6c7332e5",
   "metadata": {},
   "outputs": [],
   "source": [
    "df_cam = df[ df[ 'Response'] == 1]\n",
    "df_nocam = df[ df[ 'Response'] == 0]\n",
    "# To investigate the characteristics of customers who accepted the offer in the last campaign."
   ]
  },
  {
   "cell_type": "code",
   "execution_count": 5,
   "id": "00516b9e",
   "metadata": {},
   "outputs": [
    {
     "data": {
      "text/html": [
       "<div>\n",
       "<style scoped>\n",
       "    .dataframe tbody tr th:only-of-type {\n",
       "        vertical-align: middle;\n",
       "    }\n",
       "\n",
       "    .dataframe tbody tr th {\n",
       "        vertical-align: top;\n",
       "    }\n",
       "\n",
       "    .dataframe thead th {\n",
       "        text-align: right;\n",
       "    }\n",
       "</style>\n",
       "<table border=\"1\" class=\"dataframe\">\n",
       "  <thead>\n",
       "    <tr style=\"text-align: right;\">\n",
       "      <th></th>\n",
       "      <th>ID</th>\n",
       "      <th>Year_Birth</th>\n",
       "      <th>Education</th>\n",
       "      <th>Marital_Status</th>\n",
       "      <th>Income</th>\n",
       "      <th>Kidhome</th>\n",
       "      <th>Teenhome</th>\n",
       "      <th>Dt_Customer</th>\n",
       "      <th>Recency</th>\n",
       "      <th>MntWines</th>\n",
       "      <th>...</th>\n",
       "      <th>NumWebVisitsMonth</th>\n",
       "      <th>AcceptedCmp3</th>\n",
       "      <th>AcceptedCmp4</th>\n",
       "      <th>AcceptedCmp5</th>\n",
       "      <th>AcceptedCmp1</th>\n",
       "      <th>AcceptedCmp2</th>\n",
       "      <th>Response</th>\n",
       "      <th>Complain</th>\n",
       "      <th>Country</th>\n",
       "      <th>Martial_Status</th>\n",
       "    </tr>\n",
       "  </thead>\n",
       "  <tbody>\n",
       "    <tr>\n",
       "      <th>0</th>\n",
       "      <td>1826</td>\n",
       "      <td>1970</td>\n",
       "      <td>Graduation</td>\n",
       "      <td>Divorced</td>\n",
       "      <td>84835.0</td>\n",
       "      <td>0</td>\n",
       "      <td>0</td>\n",
       "      <td>6/16/14</td>\n",
       "      <td>0</td>\n",
       "      <td>189</td>\n",
       "      <td>...</td>\n",
       "      <td>1</td>\n",
       "      <td>0</td>\n",
       "      <td>0</td>\n",
       "      <td>0</td>\n",
       "      <td>0</td>\n",
       "      <td>0</td>\n",
       "      <td>1</td>\n",
       "      <td>0</td>\n",
       "      <td>SP</td>\n",
       "      <td>Divorced</td>\n",
       "    </tr>\n",
       "    <tr>\n",
       "      <th>1</th>\n",
       "      <td>1</td>\n",
       "      <td>1961</td>\n",
       "      <td>Graduation</td>\n",
       "      <td>Single</td>\n",
       "      <td>57091.0</td>\n",
       "      <td>0</td>\n",
       "      <td>0</td>\n",
       "      <td>6/15/14</td>\n",
       "      <td>0</td>\n",
       "      <td>464</td>\n",
       "      <td>...</td>\n",
       "      <td>5</td>\n",
       "      <td>0</td>\n",
       "      <td>0</td>\n",
       "      <td>0</td>\n",
       "      <td>0</td>\n",
       "      <td>1</td>\n",
       "      <td>1</td>\n",
       "      <td>0</td>\n",
       "      <td>CA</td>\n",
       "      <td>Single</td>\n",
       "    </tr>\n",
       "    <tr>\n",
       "      <th>4</th>\n",
       "      <td>5371</td>\n",
       "      <td>1989</td>\n",
       "      <td>Graduation</td>\n",
       "      <td>Single</td>\n",
       "      <td>21474.0</td>\n",
       "      <td>1</td>\n",
       "      <td>0</td>\n",
       "      <td>4/8/14</td>\n",
       "      <td>0</td>\n",
       "      <td>6</td>\n",
       "      <td>...</td>\n",
       "      <td>7</td>\n",
       "      <td>1</td>\n",
       "      <td>0</td>\n",
       "      <td>0</td>\n",
       "      <td>0</td>\n",
       "      <td>0</td>\n",
       "      <td>1</td>\n",
       "      <td>0</td>\n",
       "      <td>SP</td>\n",
       "      <td>Single</td>\n",
       "    </tr>\n",
       "    <tr>\n",
       "      <th>5</th>\n",
       "      <td>7348</td>\n",
       "      <td>1958</td>\n",
       "      <td>PhD</td>\n",
       "      <td>Single</td>\n",
       "      <td>71691.0</td>\n",
       "      <td>0</td>\n",
       "      <td>0</td>\n",
       "      <td>3/17/14</td>\n",
       "      <td>0</td>\n",
       "      <td>336</td>\n",
       "      <td>...</td>\n",
       "      <td>2</td>\n",
       "      <td>0</td>\n",
       "      <td>0</td>\n",
       "      <td>0</td>\n",
       "      <td>0</td>\n",
       "      <td>0</td>\n",
       "      <td>1</td>\n",
       "      <td>0</td>\n",
       "      <td>SP</td>\n",
       "      <td>Single</td>\n",
       "    </tr>\n",
       "    <tr>\n",
       "      <th>6</th>\n",
       "      <td>4073</td>\n",
       "      <td>1954</td>\n",
       "      <td>2n Cycle</td>\n",
       "      <td>Married</td>\n",
       "      <td>63564.0</td>\n",
       "      <td>0</td>\n",
       "      <td>0</td>\n",
       "      <td>1/29/14</td>\n",
       "      <td>0</td>\n",
       "      <td>769</td>\n",
       "      <td>...</td>\n",
       "      <td>6</td>\n",
       "      <td>1</td>\n",
       "      <td>0</td>\n",
       "      <td>0</td>\n",
       "      <td>0</td>\n",
       "      <td>0</td>\n",
       "      <td>1</td>\n",
       "      <td>0</td>\n",
       "      <td>GER</td>\n",
       "      <td>Married</td>\n",
       "    </tr>\n",
       "  </tbody>\n",
       "</table>\n",
       "<p>5 rows × 29 columns</p>\n",
       "</div>"
      ],
      "text/plain": [
       "     ID  Year_Birth   Education Marital_Status   Income  Kidhome  Teenhome  \\\n",
       "0  1826        1970  Graduation       Divorced  84835.0        0         0   \n",
       "1     1        1961  Graduation         Single  57091.0        0         0   \n",
       "4  5371        1989  Graduation         Single  21474.0        1         0   \n",
       "5  7348        1958         PhD         Single  71691.0        0         0   \n",
       "6  4073        1954    2n Cycle        Married  63564.0        0         0   \n",
       "\n",
       "  Dt_Customer  Recency  MntWines  ...  NumWebVisitsMonth  AcceptedCmp3  \\\n",
       "0     6/16/14        0       189  ...                  1             0   \n",
       "1     6/15/14        0       464  ...                  5             0   \n",
       "4      4/8/14        0         6  ...                  7             1   \n",
       "5     3/17/14        0       336  ...                  2             0   \n",
       "6     1/29/14        0       769  ...                  6             1   \n",
       "\n",
       "   AcceptedCmp4  AcceptedCmp5  AcceptedCmp1  AcceptedCmp2  Response  Complain  \\\n",
       "0             0             0             0             0         1         0   \n",
       "1             0             0             0             1         1         0   \n",
       "4             0             0             0             0         1         0   \n",
       "5             0             0             0             0         1         0   \n",
       "6             0             0             0             0         1         0   \n",
       "\n",
       "   Country  Martial_Status  \n",
       "0       SP        Divorced  \n",
       "1       CA          Single  \n",
       "4       SP          Single  \n",
       "5       SP          Single  \n",
       "6      GER         Married  \n",
       "\n",
       "[5 rows x 29 columns]"
      ]
     },
     "execution_count": 5,
     "metadata": {},
     "output_type": "execute_result"
    }
   ],
   "source": [
    "df_cam.head()"
   ]
  },
  {
   "cell_type": "code",
   "execution_count": 6,
   "id": "a8e3d717",
   "metadata": {},
   "outputs": [
    {
     "data": {
      "text/html": [
       "<div>\n",
       "<style scoped>\n",
       "    .dataframe tbody tr th:only-of-type {\n",
       "        vertical-align: middle;\n",
       "    }\n",
       "\n",
       "    .dataframe tbody tr th {\n",
       "        vertical-align: top;\n",
       "    }\n",
       "\n",
       "    .dataframe thead th {\n",
       "        text-align: right;\n",
       "    }\n",
       "</style>\n",
       "<table border=\"1\" class=\"dataframe\">\n",
       "  <thead>\n",
       "    <tr style=\"text-align: right;\">\n",
       "      <th></th>\n",
       "      <th>ID</th>\n",
       "      <th>Year_Birth</th>\n",
       "      <th>Education</th>\n",
       "      <th>Marital_Status</th>\n",
       "      <th>Income</th>\n",
       "      <th>Kidhome</th>\n",
       "      <th>Teenhome</th>\n",
       "      <th>Dt_Customer</th>\n",
       "      <th>Recency</th>\n",
       "      <th>MntWines</th>\n",
       "      <th>...</th>\n",
       "      <th>NumWebVisitsMonth</th>\n",
       "      <th>AcceptedCmp3</th>\n",
       "      <th>AcceptedCmp4</th>\n",
       "      <th>AcceptedCmp5</th>\n",
       "      <th>AcceptedCmp1</th>\n",
       "      <th>AcceptedCmp2</th>\n",
       "      <th>Response</th>\n",
       "      <th>Complain</th>\n",
       "      <th>Country</th>\n",
       "      <th>Martial_Status</th>\n",
       "    </tr>\n",
       "  </thead>\n",
       "  <tbody>\n",
       "    <tr>\n",
       "      <th>2</th>\n",
       "      <td>10476</td>\n",
       "      <td>1958</td>\n",
       "      <td>Graduation</td>\n",
       "      <td>Married</td>\n",
       "      <td>67267.0</td>\n",
       "      <td>0</td>\n",
       "      <td>1</td>\n",
       "      <td>5/13/14</td>\n",
       "      <td>0</td>\n",
       "      <td>134</td>\n",
       "      <td>...</td>\n",
       "      <td>2</td>\n",
       "      <td>0</td>\n",
       "      <td>0</td>\n",
       "      <td>0</td>\n",
       "      <td>0</td>\n",
       "      <td>0</td>\n",
       "      <td>0</td>\n",
       "      <td>0</td>\n",
       "      <td>US</td>\n",
       "      <td>Married</td>\n",
       "    </tr>\n",
       "    <tr>\n",
       "      <th>3</th>\n",
       "      <td>1386</td>\n",
       "      <td>1967</td>\n",
       "      <td>Graduation</td>\n",
       "      <td>Together</td>\n",
       "      <td>32474.0</td>\n",
       "      <td>1</td>\n",
       "      <td>1</td>\n",
       "      <td>5/11/14</td>\n",
       "      <td>0</td>\n",
       "      <td>10</td>\n",
       "      <td>...</td>\n",
       "      <td>7</td>\n",
       "      <td>0</td>\n",
       "      <td>0</td>\n",
       "      <td>0</td>\n",
       "      <td>0</td>\n",
       "      <td>0</td>\n",
       "      <td>0</td>\n",
       "      <td>0</td>\n",
       "      <td>AUS</td>\n",
       "      <td>Together</td>\n",
       "    </tr>\n",
       "    <tr>\n",
       "      <th>7</th>\n",
       "      <td>1991</td>\n",
       "      <td>1967</td>\n",
       "      <td>Graduation</td>\n",
       "      <td>Together</td>\n",
       "      <td>44931.0</td>\n",
       "      <td>0</td>\n",
       "      <td>1</td>\n",
       "      <td>1/18/14</td>\n",
       "      <td>0</td>\n",
       "      <td>78</td>\n",
       "      <td>...</td>\n",
       "      <td>5</td>\n",
       "      <td>0</td>\n",
       "      <td>0</td>\n",
       "      <td>0</td>\n",
       "      <td>0</td>\n",
       "      <td>0</td>\n",
       "      <td>0</td>\n",
       "      <td>0</td>\n",
       "      <td>SP</td>\n",
       "      <td>Together</td>\n",
       "    </tr>\n",
       "    <tr>\n",
       "      <th>8</th>\n",
       "      <td>4047</td>\n",
       "      <td>1954</td>\n",
       "      <td>PhD</td>\n",
       "      <td>Married</td>\n",
       "      <td>65324.0</td>\n",
       "      <td>0</td>\n",
       "      <td>1</td>\n",
       "      <td>1/11/14</td>\n",
       "      <td>0</td>\n",
       "      <td>384</td>\n",
       "      <td>...</td>\n",
       "      <td>4</td>\n",
       "      <td>0</td>\n",
       "      <td>0</td>\n",
       "      <td>0</td>\n",
       "      <td>0</td>\n",
       "      <td>0</td>\n",
       "      <td>0</td>\n",
       "      <td>0</td>\n",
       "      <td>US</td>\n",
       "      <td>Married</td>\n",
       "    </tr>\n",
       "    <tr>\n",
       "      <th>9</th>\n",
       "      <td>9477</td>\n",
       "      <td>1954</td>\n",
       "      <td>PhD</td>\n",
       "      <td>Married</td>\n",
       "      <td>65324.0</td>\n",
       "      <td>0</td>\n",
       "      <td>1</td>\n",
       "      <td>1/11/14</td>\n",
       "      <td>0</td>\n",
       "      <td>384</td>\n",
       "      <td>...</td>\n",
       "      <td>4</td>\n",
       "      <td>0</td>\n",
       "      <td>0</td>\n",
       "      <td>0</td>\n",
       "      <td>0</td>\n",
       "      <td>0</td>\n",
       "      <td>0</td>\n",
       "      <td>0</td>\n",
       "      <td>IND</td>\n",
       "      <td>Married</td>\n",
       "    </tr>\n",
       "  </tbody>\n",
       "</table>\n",
       "<p>5 rows × 29 columns</p>\n",
       "</div>"
      ],
      "text/plain": [
       "      ID  Year_Birth   Education Marital_Status   Income  Kidhome  Teenhome  \\\n",
       "2  10476        1958  Graduation        Married  67267.0        0         1   \n",
       "3   1386        1967  Graduation       Together  32474.0        1         1   \n",
       "7   1991        1967  Graduation       Together  44931.0        0         1   \n",
       "8   4047        1954         PhD        Married  65324.0        0         1   \n",
       "9   9477        1954         PhD        Married  65324.0        0         1   \n",
       "\n",
       "  Dt_Customer  Recency  MntWines  ...  NumWebVisitsMonth  AcceptedCmp3  \\\n",
       "2     5/13/14        0       134  ...                  2             0   \n",
       "3     5/11/14        0        10  ...                  7             0   \n",
       "7     1/18/14        0        78  ...                  5             0   \n",
       "8     1/11/14        0       384  ...                  4             0   \n",
       "9     1/11/14        0       384  ...                  4             0   \n",
       "\n",
       "   AcceptedCmp4  AcceptedCmp5  AcceptedCmp1  AcceptedCmp2  Response  Complain  \\\n",
       "2             0             0             0             0         0         0   \n",
       "3             0             0             0             0         0         0   \n",
       "7             0             0             0             0         0         0   \n",
       "8             0             0             0             0         0         0   \n",
       "9             0             0             0             0         0         0   \n",
       "\n",
       "   Country  Martial_Status  \n",
       "2       US         Married  \n",
       "3      AUS        Together  \n",
       "7       SP        Together  \n",
       "8       US         Married  \n",
       "9      IND         Married  \n",
       "\n",
       "[5 rows x 29 columns]"
      ]
     },
     "execution_count": 6,
     "metadata": {},
     "output_type": "execute_result"
    }
   ],
   "source": [
    "df_nocam.head()"
   ]
  },
  {
   "cell_type": "markdown",
   "id": "e53674ad",
   "metadata": {},
   "source": [
    "## Year of Birth"
   ]
  },
  {
   "cell_type": "code",
   "execution_count": 7,
   "id": "1560c263",
   "metadata": {},
   "outputs": [
    {
     "data": {
      "text/plain": [
       "<AxesSubplot:xlabel='Year_Birth', ylabel='Count'>"
      ]
     },
     "execution_count": 7,
     "metadata": {},
     "output_type": "execute_result"
    },
    {
     "data": {
      "image/png": "[encoded data removed]",
      "text/plain": [
       "<Figure size 1080x648 with 2 Axes>"
      ]
     },
     "metadata": {
      "needs_background": "light"
     },
     "output_type": "display_data"
    }
   ],
   "source": [
    "fig, axs = plt.subplots( ncols = 2, nrows = 1, figsize = (15, 9))\n",
    "sns.histplot( df_cam[ 'Year_Birth'], alpha = 0.3, bins = 30, ax = axs[0])\n",
    "sns.histplot( df_nocam[ 'Year_Birth'], alpha = 0.3, bins = 30, ax = axs[1])"
   ]
  },
  {
   "cell_type": "code",
   "execution_count": 8,
   "id": "424696db",
   "metadata": {},
   "outputs": [
    {
     "data": {
      "text/plain": [
       "<AxesSubplot:xlabel='Year_Birth', ylabel='Count'>"
      ]
     },
     "execution_count": 8,
     "metadata": {},
     "output_type": "execute_result"
    },
    {
     "data": {
      "image/png": "[encoded data removed]",
      "text/plain": [
       "<Figure size 432x288 with 1 Axes>"
      ]
     },
     "metadata": {},
     "output_type": "display_data"
    }
   ],
   "source": [
    "sns.set_style( 'darkgrid')\n",
    "sns.histplot( df_cam[ 'Year_Birth'], alpha = 0.1, bins = 30, color = 'blue')\n",
    "sns.histplot( df_nocam[ 'Year_Birth'], alpha = 0.1, bins = 30, color = 'red')"
   ]
  },
  {
   "cell_type": "markdown",
   "id": "c75104c6",
   "metadata": {},
   "source": [
    "The distributions of ages of customers who did and did not accept the offer of the last campaign are similar."
   ]
  },
  {
   "cell_type": "markdown",
   "id": "998c67d9",
   "metadata": {},
   "source": [
    "## Education"
   ]
  },
  {
   "cell_type": "code",
   "execution_count": 9,
   "id": "25ef1f4c",
   "metadata": {},
   "outputs": [
    {
     "data": {
      "text/plain": [
       "<AxesSubplot:xlabel='Education', ylabel='count'>"
      ]
     },
     "execution_count": 9,
     "metadata": {},
     "output_type": "execute_result"
    },
    {
     "data": {
      "image/png": "[encoded data removed]",
      "text/plain": [
       "<Figure size 432x288 with 1 Axes>"
      ]
     },
     "metadata": {},
     "output_type": "display_data"
    }
   ],
   "source": [
    "sns.set_style( 'darkgrid')\n",
    "sns.countplot( x = 'Education', data = df, hue = 'Response')"
   ]
  },
  {
   "cell_type": "markdown",
   "id": "667e7864",
   "metadata": {},
   "source": [
    "Distributions of education level are similar. Those with basic education and in the 2nd cycle seem to be relatively more reluctant to accept the offer in the last campaign."
   ]
  },
  {
   "cell_type": "markdown",
   "id": "9573d5ef",
   "metadata": {},
   "source": [
    "## Marital Status"
   ]
  },
  {
   "cell_type": "code",
   "execution_count": 10,
   "id": "4c9a856e",
   "metadata": {},
   "outputs": [
    {
     "data": {
      "text/plain": [
       "<AxesSubplot:xlabel='Marital_Status', ylabel='count'>"
      ]
     },
     "execution_count": 10,
     "metadata": {},
     "output_type": "execute_result"
    },
    {
     "data": {
      "image/png": "[encoded data removed]",
      "text/plain": [
       "<Figure size 432x288 with 1 Axes>"
      ]
     },
     "metadata": {},
     "output_type": "display_data"
    }
   ],
   "source": [
    "sns.set_style( 'darkgrid')\n",
    "sns.countplot( x = 'Marital_Status', data = df, hue = 'Response')"
   ]
  },
  {
   "cell_type": "code",
   "execution_count": 11,
   "id": "5bff7f9d",
   "metadata": {},
   "outputs": [],
   "source": [
    "df[ 'Response'] = df[ 'Response'].astype( 'category')\n",
    "marital_pivot = pd.pivot_table( data = df, columns = 'Response', values = 'ID',\n",
    "                               index = 'Marital_Status', aggfunc = 'count')"
   ]
  },
  {
   "cell_type": "code",
   "execution_count": 12,
   "id": "2322c89c",
   "metadata": {},
   "outputs": [],
   "source": [
    "marital_pivot = pd.concat( [marital_pivot, (marital_pivot[ 1] / (marital_pivot[ 0] + marital_pivot[ 1]))], axis = 1)"
   ]
  },
  {
   "cell_type": "code",
   "execution_count": 13,
   "id": "ff55e5be",
   "metadata": {
    "scrolled": true
   },
   "outputs": [
    {
     "data": {
      "text/html": [
       "<div>\n",
       "<style scoped>\n",
       "    .dataframe tbody tr th:only-of-type {\n",
       "        vertical-align: middle;\n",
       "    }\n",
       "\n",
       "    .dataframe tbody tr th {\n",
       "        vertical-align: top;\n",
       "    }\n",
       "\n",
       "    .dataframe thead th {\n",
       "        text-align: right;\n",
       "    }\n",
       "</style>\n",
       "<table border=\"1\" class=\"dataframe\">\n",
       "  <thead>\n",
       "    <tr style=\"text-align: right;\">\n",
       "      <th></th>\n",
       "      <th>0</th>\n",
       "      <th>1</th>\n",
       "      <th>0</th>\n",
       "    </tr>\n",
       "    <tr>\n",
       "      <th>Marital_Status</th>\n",
       "      <th></th>\n",
       "      <th></th>\n",
       "      <th></th>\n",
       "    </tr>\n",
       "  </thead>\n",
       "  <tbody>\n",
       "    <tr>\n",
       "      <th>Absurd</th>\n",
       "      <td>1</td>\n",
       "      <td>1</td>\n",
       "      <td>0.500000</td>\n",
       "    </tr>\n",
       "    <tr>\n",
       "      <th>Alone</th>\n",
       "      <td>2</td>\n",
       "      <td>1</td>\n",
       "      <td>0.333333</td>\n",
       "    </tr>\n",
       "    <tr>\n",
       "      <th>Divorced</th>\n",
       "      <td>183</td>\n",
       "      <td>48</td>\n",
       "      <td>0.207792</td>\n",
       "    </tr>\n",
       "    <tr>\n",
       "      <th>Married</th>\n",
       "      <td>759</td>\n",
       "      <td>98</td>\n",
       "      <td>0.114352</td>\n",
       "    </tr>\n",
       "    <tr>\n",
       "      <th>Single</th>\n",
       "      <td>364</td>\n",
       "      <td>106</td>\n",
       "      <td>0.225532</td>\n",
       "    </tr>\n",
       "    <tr>\n",
       "      <th>Together</th>\n",
       "      <td>511</td>\n",
       "      <td>60</td>\n",
       "      <td>0.105079</td>\n",
       "    </tr>\n",
       "    <tr>\n",
       "      <th>Widow</th>\n",
       "      <td>58</td>\n",
       "      <td>18</td>\n",
       "      <td>0.236842</td>\n",
       "    </tr>\n",
       "    <tr>\n",
       "      <th>YOLO</th>\n",
       "      <td>1</td>\n",
       "      <td>1</td>\n",
       "      <td>0.500000</td>\n",
       "    </tr>\n",
       "  </tbody>\n",
       "</table>\n",
       "</div>"
      ],
      "text/plain": [
       "                  0    1         0\n",
       "Marital_Status                    \n",
       "Absurd            1    1  0.500000\n",
       "Alone             2    1  0.333333\n",
       "Divorced        183   48  0.207792\n",
       "Married         759   98  0.114352\n",
       "Single          364  106  0.225532\n",
       "Together        511   60  0.105079\n",
       "Widow            58   18  0.236842\n",
       "YOLO              1    1  0.500000"
      ]
     },
     "execution_count": 13,
     "metadata": {},
     "output_type": "execute_result"
    }
   ],
   "source": [
    "marital_pivot"
   ]
  },
  {
   "cell_type": "code",
   "execution_count": 14,
   "id": "43f9b01c",
   "metadata": {},
   "outputs": [],
   "source": [
    "marital_pivot.columns = ['Rejected', 'Accepted', 'Percentage of Accepted']"
   ]
  },
  {
   "cell_type": "code",
   "execution_count": 15,
   "id": "ba236bf9",
   "metadata": {},
   "outputs": [
    {
     "data": {
      "text/html": [
       "<div>\n",
       "<style scoped>\n",
       "    .dataframe tbody tr th:only-of-type {\n",
       "        vertical-align: middle;\n",
       "    }\n",
       "\n",
       "    .dataframe tbody tr th {\n",
       "        vertical-align: top;\n",
       "    }\n",
       "\n",
       "    .dataframe thead th {\n",
       "        text-align: right;\n",
       "    }\n",
       "</style>\n",
       "<table border=\"1\" class=\"dataframe\">\n",
       "  <thead>\n",
       "    <tr style=\"text-align: right;\">\n",
       "      <th></th>\n",
       "      <th>Rejected</th>\n",
       "      <th>Accepted</th>\n",
       "      <th>Percentage of Accepted</th>\n",
       "    </tr>\n",
       "    <tr>\n",
       "      <th>Marital_Status</th>\n",
       "      <th></th>\n",
       "      <th></th>\n",
       "      <th></th>\n",
       "    </tr>\n",
       "  </thead>\n",
       "  <tbody>\n",
       "    <tr>\n",
       "      <th>Absurd</th>\n",
       "      <td>1</td>\n",
       "      <td>1</td>\n",
       "      <td>0.500000</td>\n",
       "    </tr>\n",
       "    <tr>\n",
       "      <th>Alone</th>\n",
       "      <td>2</td>\n",
       "      <td>1</td>\n",
       "      <td>0.333333</td>\n",
       "    </tr>\n",
       "    <tr>\n",
       "      <th>Divorced</th>\n",
       "      <td>183</td>\n",
       "      <td>48</td>\n",
       "      <td>0.207792</td>\n",
       "    </tr>\n",
       "    <tr>\n",
       "      <th>Married</th>\n",
       "      <td>759</td>\n",
       "      <td>98</td>\n",
       "      <td>0.114352</td>\n",
       "    </tr>\n",
       "    <tr>\n",
       "      <th>Single</th>\n",
       "      <td>364</td>\n",
       "      <td>106</td>\n",
       "      <td>0.225532</td>\n",
       "    </tr>\n",
       "    <tr>\n",
       "      <th>Together</th>\n",
       "      <td>511</td>\n",
       "      <td>60</td>\n",
       "      <td>0.105079</td>\n",
       "    </tr>\n",
       "    <tr>\n",
       "      <th>Widow</th>\n",
       "      <td>58</td>\n",
       "      <td>18</td>\n",
       "      <td>0.236842</td>\n",
       "    </tr>\n",
       "    <tr>\n",
       "      <th>YOLO</th>\n",
       "      <td>1</td>\n",
       "      <td>1</td>\n",
       "      <td>0.500000</td>\n",
       "    </tr>\n",
       "  </tbody>\n",
       "</table>\n",
       "</div>"
      ],
      "text/plain": [
       "                Rejected  Accepted  Percentage of Accepted\n",
       "Marital_Status                                            \n",
       "Absurd                 1         1                0.500000\n",
       "Alone                  2         1                0.333333\n",
       "Divorced             183        48                0.207792\n",
       "Married              759        98                0.114352\n",
       "Single               364       106                0.225532\n",
       "Together             511        60                0.105079\n",
       "Widow                 58        18                0.236842\n",
       "YOLO                   1         1                0.500000"
      ]
     },
     "execution_count": 15,
     "metadata": {},
     "output_type": "execute_result"
    }
   ],
   "source": [
    "marital_pivot"
   ]
  },
  {
   "cell_type": "code",
   "execution_count": 16,
   "id": "8be1c47d",
   "metadata": {},
   "outputs": [
    {
     "data": {
      "text/plain": [
       "<AxesSubplot:xlabel='Marital_Status', ylabel='Percentage of Accepted'>"
      ]
     },
     "execution_count": 16,
     "metadata": {},
     "output_type": "execute_result"
    },
    {
     "data": {
      "image/png": "[encoded data removed]",
      "text/plain": [
       "<Figure size 432x288 with 1 Axes>"
      ]
     },
     "metadata": {},
     "output_type": "display_data"
    }
   ],
   "source": [
    "sns.barplot( x = marital_pivot.index, y = marital_pivot[ 'Percentage of Accepted'])"
   ]
  },
  {
   "cell_type": "markdown",
   "id": "ea1173f3",
   "metadata": {},
   "source": [
    "Ignoring those in absurd and YOLO status, as the sample size is too small, those being single (including alone, divorced, single, single, and widow) are more willing to accept the offer in the last campaign, in comparison to those being in a relationship (married or together)."
   ]
  },
  {
   "cell_type": "markdown",
   "id": "1a342a29",
   "metadata": {},
   "source": [
    "### Numbers of kids and teens at home"
   ]
  },
  {
   "cell_type": "code",
   "execution_count": 17,
   "id": "541ed3a2",
   "metadata": {},
   "outputs": [
    {
     "data": {
      "text/plain": [
       "<AxesSubplot:xlabel='Response', ylabel='Teenhome'>"
      ]
     },
     "execution_count": 17,
     "metadata": {},
     "output_type": "execute_result"
    },
    {
     "data": {
      "image/png": "[encoded data removed]",
      "text/plain": [
       "<Figure size 1080x432 with 2 Axes>"
      ]
     },
     "metadata": {},
     "output_type": "display_data"
    }
   ],
   "source": [
    "fig, axs = plt.subplots( ncols = 2, nrows = 1, figsize = (15,6))\n",
    "sns.violinplot( x = 'Response', y = 'Kidhome', data = df, ax = axs[0])\n",
    "sns.violinplot( x = 'Response', y = 'Teenhome', data = df, ax = axs[1])"
   ]
  },
  {
   "cell_type": "code",
   "execution_count": 18,
   "id": "054637ed",
   "metadata": {},
   "outputs": [
    {
     "name": "stdout",
     "output_type": "stream",
     "text": [
      "           Kidhome\n",
      "Response          \n",
      "0         0.459287\n",
      "1         0.342342\n",
      "          Teenhome\n",
      "Response          \n",
      "0         0.541245\n",
      "1         0.306306\n"
     ]
    }
   ],
   "source": [
    "kid_pivot = pd.pivot_table( data = df, index = 'Response', values = 'Kidhome', aggfunc = 'mean')\n",
    "print( kid_pivot)\n",
    "\n",
    "teen_pivot = pd.pivot_table( data = df, index = 'Response', values = 'Teenhome', aggfunc = 'mean')\n",
    "print( teen_pivot)"
   ]
  },
  {
   "cell_type": "markdown",
   "id": "f35e1588",
   "metadata": {},
   "source": [
    "Although the mean numbers of kids and teens at home is slightly smaller in those customers who accepted the offer in the last campaign, the different is trivial practically."
   ]
  },
  {
   "cell_type": "markdown",
   "id": "b4faf9be",
   "metadata": {},
   "source": [
    "## Days since customers' first purchase"
   ]
  },
  {
   "cell_type": "code",
   "execution_count": 19,
   "id": "d817633e",
   "metadata": {},
   "outputs": [],
   "source": [
    "from datetime import datetime, date\n",
    "\n",
    "df[ 'Days_Customer'] = ( datetime( 2014, 7, 28) - pd.to_datetime(df['Dt_Customer'], format='%m/%d/%y')).dt.days"
   ]
  },
  {
   "cell_type": "code",
   "execution_count": 20,
   "id": "976ac24e",
   "metadata": {},
   "outputs": [
    {
     "data": {
      "text/plain": [
       "Text(0.5, 1.0, 'Accepted the ofer')"
      ]
     },
     "execution_count": 20,
     "metadata": {},
     "output_type": "execute_result"
    },
    {
     "data": {
      "image/png": "[encoded data removed]",
      "text/plain": [
       "<Figure size 1080x648 with 2 Axes>"
      ]
     },
     "metadata": {},
     "output_type": "display_data"
    }
   ],
   "source": [
    "fig, axs = plt.subplots( ncols = 2, nrows = 1, figsize = (15,9))\n",
    "sns.histplot( df[ df.Response == 0]['Days_Customer'], bins = 30, ax = axs[0])\n",
    "sns.histplot( df[ df.Response == 1]['Days_Customer'], bins = 30, ax = axs[1])\n",
    "\n",
    "axs[0].set_title( 'Rejected the offer')\n",
    "axs[1].set_title( 'Accepted the ofer')"
   ]
  },
  {
   "cell_type": "code",
   "execution_count": 21,
   "id": "842d37d7",
   "metadata": {},
   "outputs": [
    {
     "data": {
      "text/plain": [
       "<AxesSubplot:xlabel='Days_Customer', ylabel='Density'>"
      ]
     },
     "execution_count": 21,
     "metadata": {},
     "output_type": "execute_result"
    },
    {
     "data": {
      "image/png": "[encoded data removed]",
      "text/plain": [
       "<Figure size 432x288 with 1 Axes>"
      ]
     },
     "metadata": {},
     "output_type": "display_data"
    }
   ],
   "source": [
    "sns.kdeplot( df['Days_Customer'], hue = df[ 'Response'])"
   ]
  },
  {
   "cell_type": "markdown",
   "id": "0b4d3ce3",
   "metadata": {},
   "source": [
    "It is seen that customers enrolled earlier are more willing to accept the offer in the last campaign."
   ]
  },
  {
   "cell_type": "markdown",
   "id": "70f59a5a",
   "metadata": {},
   "source": [
    "### Research question 3: Previous campaign engagement and last campaign engagement"
   ]
  },
  {
   "cell_type": "markdown",
   "id": "af83aa6e",
   "metadata": {},
   "source": [
    "### Data visualization"
   ]
  },
  {
   "cell_type": "code",
   "execution_count": 22,
   "id": "0c6c1cdd",
   "metadata": {
    "scrolled": true
   },
   "outputs": [
    {
     "name": "stdout",
     "output_type": "stream",
     "text": [
      "AcceptedCmp1     0   1\n",
      "Response              \n",
      "0             1816  63\n",
      "1              254  79 \n",
      "\n",
      " AcceptedCmp2     0   1\n",
      "Response              \n",
      "0             1869  10\n",
      "1              313  20 \n",
      "\n",
      " AcceptedCmp3     0   1\n",
      "Response              \n",
      "0             1793  86\n",
      "1              256  77 \n",
      "\n",
      " AcceptedCmp4     0    1\n",
      "Response               \n",
      "0             1777  102\n",
      "1              271   62 \n",
      "\n",
      " AcceptedCmp5     0   1\n",
      "Response              \n",
      "0             1809  70\n",
      "1              242  91\n"
     ]
    }
   ],
   "source": [
    "pv1 = pd.pivot_table( df, index = 'Response', columns = 'AcceptedCmp1', values = 'ID', aggfunc = 'count')\n",
    "pv2 = pd.pivot_table( df, index = 'Response', columns = 'AcceptedCmp2', values = 'ID', aggfunc = 'count')\n",
    "pv3 = pd.pivot_table( df, index = 'Response', columns = 'AcceptedCmp3', values = 'ID', aggfunc = 'count')\n",
    "pv4 = pd.pivot_table( df, index = 'Response', columns = 'AcceptedCmp4', values = 'ID', aggfunc = 'count')\n",
    "pv5 = pd.pivot_table( df, index = 'Response', columns = 'AcceptedCmp5', values = 'ID', aggfunc = 'count')\n",
    "\n",
    "print( pv1, '\\n\\n', pv2, '\\n\\n', pv3, '\\n\\n', pv4, '\\n\\n', pv5)"
   ]
  },
  {
   "cell_type": "code",
   "execution_count": 23,
   "id": "d9e3a76c",
   "metadata": {
    "scrolled": true
   },
   "outputs": [
    {
     "data": {
      "text/plain": [
       "<AxesSubplot:xlabel='AcceptedCmp5', ylabel='Response'>"
      ]
     },
     "execution_count": 23,
     "metadata": {},
     "output_type": "execute_result"
    },
    {
     "data": {
      "image/png": "[encoded data removed]",
      "text/plain": [
       "<Figure size 1080x432 with 11 Axes>"
      ]
     },
     "metadata": {},
     "output_type": "display_data"
    }
   ],
   "source": [
    "fig, axs = plt.subplots( ncols = 3, nrows = 2, figsize = (15, 6))\n",
    "\n",
    "sns.heatmap( pv1, cmap = 'Blues', vmax = 350, ax = axs[ 0,0])\n",
    "sns.heatmap( pv2, cmap = 'Blues', vmax = 350, ax = axs[ 0,1])\n",
    "sns.heatmap( pv3, cmap = 'Blues', vmax = 350, ax = axs[ 0,2])\n",
    "sns.heatmap( pv4, cmap = 'Blues', vmax = 350, ax = axs[ 1,0])\n",
    "sns.heatmap( pv5, cmap = 'Blues', vmax = 350, ax = axs[ 1,1])"
   ]
  },
  {
   "cell_type": "markdown",
   "id": "68e38f45",
   "metadata": {},
   "source": [
    "It is seen that most of the customers did not accept the offer in the recent and the past campaigns. While the likelihood accepting the offer is around half if they had accepted it before, their likelihood of accepting is extremely low if they did not accepted an offer before.\n",
    "\n",
    "However, it is worth noting that among those who accepted the recent offer, most of them did not accept at least one of the previous offers."
   ]
  },
  {
   "cell_type": "markdown",
   "id": "0e91cba1",
   "metadata": {},
   "source": [
    "## Machine Learning"
   ]
  },
  {
   "cell_type": "markdown",
   "id": "c7b0a917",
   "metadata": {},
   "source": [
    "Logistic regression, decision tree & random forest and support vector machine will be used to predict acceptance of offer in the last campaign with previous campaign engagement."
   ]
  },
  {
   "cell_type": "markdown",
   "id": "7d348ec9",
   "metadata": {},
   "source": [
    "### Logistic Regression"
   ]
  },
  {
   "cell_type": "code",
   "execution_count": 24,
   "id": "ed1cfc2a",
   "metadata": {},
   "outputs": [],
   "source": [
    "from sklearn.model_selection import train_test_split\n",
    "from sklearn.linear_model import LogisticRegression"
   ]
  },
  {
   "cell_type": "code",
   "execution_count": 25,
   "id": "78d80c1e",
   "metadata": {},
   "outputs": [],
   "source": [
    "X = df[ ['AcceptedCmp1', 'AcceptedCmp2', 'AcceptedCmp3', 'AcceptedCmp4', 'AcceptedCmp5']]\n",
    "y = df[ 'Response']\n",
    "X_train_log, X_test_log, y_train_log, y_test_log = train_test_split( X, y, test_size = 0.1)"
   ]
  },
  {
   "cell_type": "code",
   "execution_count": 26,
   "id": "564aaa56",
   "metadata": {},
   "outputs": [],
   "source": [
    "logmodel = LogisticRegression()"
   ]
  },
  {
   "cell_type": "code",
   "execution_count": 27,
   "id": "06c932c5",
   "metadata": {},
   "outputs": [],
   "source": [
    "logmodel.fit( X_train_log, y_train_log)\n",
    "predictions_log = logmodel.predict( X_test_log)"
   ]
  },
  {
   "cell_type": "code",
   "execution_count": 28,
   "id": "e0f0a655",
   "metadata": {},
   "outputs": [],
   "source": [
    "from sklearn.metrics import classification_report, confusion_matrix"
   ]
  },
  {
   "cell_type": "code",
   "execution_count": 29,
   "id": "d094f952",
   "metadata": {},
   "outputs": [
    {
     "name": "stdout",
     "output_type": "stream",
     "text": [
      "[[  7   2]\n",
      " [ 34 179]]\n",
      "True Positive = 4\n",
      "False Positive = 27\n",
      "False Negative = 0\n",
      "True Negative = 191\n",
      "\n",
      "\n",
      "              precision    recall  f1-score   support\n",
      "\n",
      "           0       0.99      0.84      0.91       213\n",
      "           1       0.17      0.78      0.28         9\n",
      "\n",
      "    accuracy                           0.84       222\n",
      "   macro avg       0.58      0.81      0.59       222\n",
      "weighted avg       0.96      0.84      0.88       222\n",
      "\n"
     ]
    }
   ],
   "source": [
    "print( confusion_matrix( predictions_log, y_test_log, labels = [1, 0]))\n",
    "print( 'True Positive = 4')\n",
    "print( 'False Positive = 27')\n",
    "print( 'False Negative = 0')\n",
    "print( 'True Negative = 191')\n",
    "print( '\\n')\n",
    "print( classification_report( predictions_log, y_test_log))"
   ]
  },
  {
   "cell_type": "markdown",
   "id": "9d143f2a",
   "metadata": {},
   "source": [
    "### Decision Tree"
   ]
  },
  {
   "cell_type": "code",
   "execution_count": 30,
   "id": "a7ea55cd",
   "metadata": {},
   "outputs": [],
   "source": [
    "from sklearn.tree import DecisionTreeClassifier"
   ]
  },
  {
   "cell_type": "code",
   "execution_count": 31,
   "id": "af9ef950",
   "metadata": {},
   "outputs": [],
   "source": [
    "X_train_dtree, X_test_dtree, y_train_dtree, y_test_dtree = train_test_split( X, y, test_size = 0.1)"
   ]
  },
  {
   "cell_type": "code",
   "execution_count": 32,
   "id": "8679f7f9",
   "metadata": {},
   "outputs": [],
   "source": [
    "dtree = DecisionTreeClassifier()"
   ]
  },
  {
   "cell_type": "code",
   "execution_count": 33,
   "id": "395e9027",
   "metadata": {},
   "outputs": [],
   "source": [
    "dtree.fit( X_train_dtree, y_train_dtree)\n",
    "predictions_dtree = dtree.predict( X_test_dtree)"
   ]
  },
  {
   "cell_type": "code",
   "execution_count": 34,
   "id": "b1840c02",
   "metadata": {},
   "outputs": [
    {
     "name": "stdout",
     "output_type": "stream",
     "text": [
      "[[  4   2]\n",
      " [ 25 191]]\n",
      "True Positive = 8\n",
      "False Positive = 28\n",
      "False Negative = 5\n",
      "True Negative = 181\n",
      "\n",
      "\n",
      "              precision    recall  f1-score   support\n",
      "\n",
      "           0       0.99      0.88      0.93       216\n",
      "           1       0.14      0.67      0.23         6\n",
      "\n",
      "    accuracy                           0.88       222\n",
      "   macro avg       0.56      0.78      0.58       222\n",
      "weighted avg       0.97      0.88      0.91       222\n",
      "\n"
     ]
    }
   ],
   "source": [
    "print( confusion_matrix( predictions_dtree, y_test_dtree, labels = [1, 0]))\n",
    "print( 'True Positive = 8')\n",
    "print( 'False Positive = 28')\n",
    "print( 'False Negative = 5')\n",
    "print( 'True Negative = 181')\n",
    "print( '\\n')\n",
    "print( classification_report( predictions_dtree, y_test_dtree))"
   ]
  },
  {
   "cell_type": "markdown",
   "id": "e67be784",
   "metadata": {},
   "source": [
    "### Random Forest"
   ]
  },
  {
   "cell_type": "code",
   "execution_count": 35,
   "id": "06916e0c",
   "metadata": {},
   "outputs": [],
   "source": [
    "from sklearn.ensemble import RandomForestClassifier"
   ]
  },
  {
   "cell_type": "code",
   "execution_count": 36,
   "id": "31323539",
   "metadata": {},
   "outputs": [],
   "source": [
    "X_train_rfc, X_test_rfc, y_train_rfc, y_test_rfc = train_test_split( X, y, test_size = 0.1)"
   ]
  },
  {
   "cell_type": "code",
   "execution_count": 37,
   "id": "2f925036",
   "metadata": {},
   "outputs": [],
   "source": [
    "rfc = RandomForestClassifier()\n",
    "rfc.fit( X_train_rfc, y_train_rfc)\n",
    "predictions_rfc = rfc.predict( X_test_rfc)"
   ]
  },
  {
   "cell_type": "code",
   "execution_count": 38,
   "id": "fe89b8f0",
   "metadata": {},
   "outputs": [
    {
     "name": "stdout",
     "output_type": "stream",
     "text": [
      "[[  4   0]\n",
      " [ 24 194]]\n",
      "True Positive = 6\n",
      "False Positive = 23\n",
      "False Negative = 0\n",
      "True Negative = 193\n",
      "\n",
      "\n",
      "              precision    recall  f1-score   support\n",
      "\n",
      "           0       1.00      0.89      0.94       218\n",
      "           1       0.14      1.00      0.25         4\n",
      "\n",
      "    accuracy                           0.89       222\n",
      "   macro avg       0.57      0.94      0.60       222\n",
      "weighted avg       0.98      0.89      0.93       222\n",
      "\n"
     ]
    }
   ],
   "source": [
    "print( confusion_matrix( predictions_rfc, y_test_rfc, labels = [1, 0]))\n",
    "print( 'True Positive = 6')\n",
    "print( 'False Positive = 23')\n",
    "print( 'False Negative = 0')\n",
    "print( 'True Negative = 193')\n",
    "print( '\\n')\n",
    "print( classification_report( predictions_rfc, y_test_rfc))"
   ]
  },
  {
   "cell_type": "markdown",
   "id": "8bb263e7",
   "metadata": {},
   "source": [
    "### Support Vector Machine"
   ]
  },
  {
   "cell_type": "code",
   "execution_count": 39,
   "id": "6cbd969f",
   "metadata": {},
   "outputs": [],
   "source": [
    "from sklearn.svm import SVC"
   ]
  },
  {
   "cell_type": "code",
   "execution_count": 40,
   "id": "b6d1f07c",
   "metadata": {},
   "outputs": [],
   "source": [
    "X_train_svc, X_test_svc, y_train_svc, y_test_svc = train_test_split( X, y, test_size = 0.1)"
   ]
  },
  {
   "cell_type": "code",
   "execution_count": 41,
   "id": "d44430cb",
   "metadata": {},
   "outputs": [],
   "source": [
    "svc = SVC()\n",
    "svc.fit( X_train_svc, y_train_svc)\n",
    "predictions_svc = svc.predict( X_test_svc)"
   ]
  },
  {
   "cell_type": "code",
   "execution_count": 42,
   "id": "781685bb",
   "metadata": {},
   "outputs": [
    {
     "name": "stdout",
     "output_type": "stream",
     "text": [
      "[[  8   7]\n",
      " [ 23 184]]\n",
      "True Positive = 10\n",
      "False Positive = 34\n",
      "False Negative = 3\n",
      "True Negative = 175\n",
      "\n",
      "\n",
      "              precision    recall  f1-score   support\n",
      "\n",
      "           0       0.96      0.89      0.92       207\n",
      "           1       0.26      0.53      0.35        15\n",
      "\n",
      "    accuracy                           0.86       222\n",
      "   macro avg       0.61      0.71      0.64       222\n",
      "weighted avg       0.92      0.86      0.89       222\n",
      "\n"
     ]
    }
   ],
   "source": [
    "print( confusion_matrix( predictions_svc, y_test_svc, labels = [1, 0]))\n",
    "print( 'True Positive = 10')\n",
    "print( 'False Positive = 34')\n",
    "print( 'False Negative = 3')\n",
    "print( 'True Negative = 175')\n",
    "print( '\\n')\n",
    "print( classification_report( predictions_svc, y_test_svc))"
   ]
  },
  {
   "cell_type": "code",
   "execution_count": 43,
   "id": "39617cb1",
   "metadata": {},
   "outputs": [
    {
     "name": "stdout",
     "output_type": "stream",
     "text": [
      "Logistic Regression\n",
      "              precision    recall  f1-score   support\n",
      "\n",
      "           0       0.99      0.84      0.91       213\n",
      "           1       0.17      0.78      0.28         9\n",
      "\n",
      "    accuracy                           0.84       222\n",
      "   macro avg       0.58      0.81      0.59       222\n",
      "weighted avg       0.96      0.84      0.88       222\n",
      " \n",
      "\n",
      "Decision Tree\n",
      "              precision    recall  f1-score   support\n",
      "\n",
      "           0       0.99      0.88      0.93       216\n",
      "           1       0.14      0.67      0.23         6\n",
      "\n",
      "    accuracy                           0.88       222\n",
      "   macro avg       0.56      0.78      0.58       222\n",
      "weighted avg       0.97      0.88      0.91       222\n",
      " \n",
      "\n",
      "Random Forest\n",
      "              precision    recall  f1-score   support\n",
      "\n",
      "           0       1.00      0.89      0.94       218\n",
      "           1       0.14      1.00      0.25         4\n",
      "\n",
      "    accuracy                           0.89       222\n",
      "   macro avg       0.57      0.94      0.60       222\n",
      "weighted avg       0.98      0.89      0.93       222\n",
      " \n",
      "\n",
      "Support Vector Machine\n",
      "              precision    recall  f1-score   support\n",
      "\n",
      "           0       0.96      0.89      0.92       207\n",
      "           1       0.26      0.53      0.35        15\n",
      "\n",
      "    accuracy                           0.86       222\n",
      "   macro avg       0.61      0.71      0.64       222\n",
      "weighted avg       0.92      0.86      0.89       222\n",
      " \n",
      "\n"
     ]
    }
   ],
   "source": [
    "print( 'Logistic Regression')\n",
    "print( classification_report( predictions_log, y_test_log), '\\n')\n",
    "\n",
    "print( 'Decision Tree')\n",
    "print( classification_report( predictions_dtree, y_test_dtree), '\\n')\n",
    "\n",
    "print( 'Random Forest')\n",
    "print( classification_report( predictions_rfc, y_test_rfc), '\\n')\n",
    "\n",
    "print( 'Support Vector Machine')\n",
    "print( classification_report( predictions_svc, y_test_svc), '\\n')"
   ]
  },
  {
   "cell_type": "markdown",
   "id": "aaabb0d7",
   "metadata": {},
   "source": [
    "4 machine learning algorithms perform similarly in predicting customers' acceptance of the offer in the last campaign with their previous engagement. With the high recall rate and precision for non-engagement, it is shown that previous engagement in campaigns are associated with whether they accepted the offer in the last campaign."
   ]
  },
  {
   "cell_type": "markdown",
   "id": "e8cc6222",
   "metadata": {},
   "source": [
    "# Insights"
   ]
  },
  {
   "cell_type": "markdown",
   "id": "8c5838b9",
   "metadata": {},
   "source": [
    "__Characteristics and offer acceptance in the last campaign__\n",
    "\n",
    "For customers' characteristics, it was found that the last campaign attracted more single customers than customers in a romantic relationship. The marketing team should look into the possible reasons. A random yet reasonable guess will be that the bundles in discount were more useful for single people but not romantic partners.\n",
    "\n",
    "More old customers accepted the offer in the previous campaign than new customers. The marketing team could carry out some more Newcomer Promotion to engage new customers.\n",
    "\n",
    "__Previous campaign engagement and offer acceptance in the last campaign__\n",
    "\n",
    "The results of predicting campaign offer acceptance by previous 5 offer acceptances are quite hard to intepret.\n",
    "\n",
    "Firstly, for those who participated in campaigns before, slighlt more than half of them participated in the last campaign. However, the enhancement is small. It is an evidence that the previous campaigns fail to maintain customers' loyalty. A more ideal pattern will be that, those who accepted an offer in the previous campaigns keep accepting new offers.\n",
    "\n",
    "Secondly, it is encouraging that majority of customers who accepted the offer in the last campaign had not accepted an offer before. It shows that the effect of the last campaign is not dependent to previous campaign and is successful in attracting customers' who did not engage before."
   ]
  },
  {
   "cell_type": "markdown",
   "id": "6f334494",
   "metadata": {},
   "source": [
    "This is the end of my project notebook. Many thanks to those who helped me during my journey."
   ]
  }
 ],
 "metadata": {
  "kernelspec": {
   "display_name": "Python 3",
   "language": "python",
   "name": "python3"
  },
  "language_info": {
   "codemirror_mode": {
    "name": "ipython",
    "version": 3
   },
   "file_extension": ".py",
   "mimetype": "text/x-python",
   "name": "python",
   "nbconvert_exporter": "python",
   "pygments_lexer": "ipython3",
   "version": "3.8.8"
  }
 },
 "nbformat": 4,
 "nbformat_minor": 5
}
